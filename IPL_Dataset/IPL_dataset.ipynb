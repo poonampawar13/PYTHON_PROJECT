{
 "cells": [
  {
   "cell_type": "markdown",
   "id": "fc4ff140",
   "metadata": {},
   "source": [
    "#  Load the Dataset"
   ]
  },
  {
   "cell_type": "code",
   "execution_count": 1,
   "id": "32f39dba",
   "metadata": {},
   "outputs": [
    {
     "data": {
      "text/html": [
       "<div>\n",
       "<style scoped>\n",
       "    .dataframe tbody tr th:only-of-type {\n",
       "        vertical-align: middle;\n",
       "    }\n",
       "\n",
       "    .dataframe tbody tr th {\n",
       "        vertical-align: top;\n",
       "    }\n",
       "\n",
       "    .dataframe thead th {\n",
       "        text-align: right;\n",
       "    }\n",
       "</style>\n",
       "<table border=\"1\" class=\"dataframe\">\n",
       "  <thead>\n",
       "    <tr style=\"text-align: right;\">\n",
       "      <th></th>\n",
       "      <th>match_id</th>\n",
       "      <th>inning</th>\n",
       "      <th>batting_team</th>\n",
       "      <th>bowling_team</th>\n",
       "      <th>over</th>\n",
       "      <th>ball</th>\n",
       "      <th>batsman</th>\n",
       "      <th>non_striker</th>\n",
       "      <th>bowler</th>\n",
       "      <th>is_super_over</th>\n",
       "      <th>...</th>\n",
       "      <th>bye_runs</th>\n",
       "      <th>legbye_runs</th>\n",
       "      <th>noball_runs</th>\n",
       "      <th>penalty_runs</th>\n",
       "      <th>batsman_runs</th>\n",
       "      <th>extra_runs</th>\n",
       "      <th>total_runs</th>\n",
       "      <th>player_dismissed</th>\n",
       "      <th>dismissal_kind</th>\n",
       "      <th>fielder</th>\n",
       "    </tr>\n",
       "  </thead>\n",
       "  <tbody>\n",
       "    <tr>\n",
       "      <th>0</th>\n",
       "      <td>1</td>\n",
       "      <td>1</td>\n",
       "      <td>Sunrisers Hyderabad</td>\n",
       "      <td>Royal Challengers Bangalore</td>\n",
       "      <td>1</td>\n",
       "      <td>1</td>\n",
       "      <td>DA Warner</td>\n",
       "      <td>S Dhawan</td>\n",
       "      <td>TS Mills</td>\n",
       "      <td>0</td>\n",
       "      <td>...</td>\n",
       "      <td>0</td>\n",
       "      <td>0</td>\n",
       "      <td>0</td>\n",
       "      <td>0</td>\n",
       "      <td>0</td>\n",
       "      <td>0</td>\n",
       "      <td>0</td>\n",
       "      <td>NaN</td>\n",
       "      <td>NaN</td>\n",
       "      <td>NaN</td>\n",
       "    </tr>\n",
       "    <tr>\n",
       "      <th>1</th>\n",
       "      <td>1</td>\n",
       "      <td>1</td>\n",
       "      <td>Sunrisers Hyderabad</td>\n",
       "      <td>Royal Challengers Bangalore</td>\n",
       "      <td>1</td>\n",
       "      <td>2</td>\n",
       "      <td>DA Warner</td>\n",
       "      <td>S Dhawan</td>\n",
       "      <td>TS Mills</td>\n",
       "      <td>0</td>\n",
       "      <td>...</td>\n",
       "      <td>0</td>\n",
       "      <td>0</td>\n",
       "      <td>0</td>\n",
       "      <td>0</td>\n",
       "      <td>0</td>\n",
       "      <td>0</td>\n",
       "      <td>0</td>\n",
       "      <td>NaN</td>\n",
       "      <td>NaN</td>\n",
       "      <td>NaN</td>\n",
       "    </tr>\n",
       "    <tr>\n",
       "      <th>2</th>\n",
       "      <td>1</td>\n",
       "      <td>1</td>\n",
       "      <td>Sunrisers Hyderabad</td>\n",
       "      <td>Royal Challengers Bangalore</td>\n",
       "      <td>1</td>\n",
       "      <td>3</td>\n",
       "      <td>DA Warner</td>\n",
       "      <td>S Dhawan</td>\n",
       "      <td>TS Mills</td>\n",
       "      <td>0</td>\n",
       "      <td>...</td>\n",
       "      <td>0</td>\n",
       "      <td>0</td>\n",
       "      <td>0</td>\n",
       "      <td>0</td>\n",
       "      <td>4</td>\n",
       "      <td>0</td>\n",
       "      <td>4</td>\n",
       "      <td>NaN</td>\n",
       "      <td>NaN</td>\n",
       "      <td>NaN</td>\n",
       "    </tr>\n",
       "    <tr>\n",
       "      <th>3</th>\n",
       "      <td>1</td>\n",
       "      <td>1</td>\n",
       "      <td>Sunrisers Hyderabad</td>\n",
       "      <td>Royal Challengers Bangalore</td>\n",
       "      <td>1</td>\n",
       "      <td>4</td>\n",
       "      <td>DA Warner</td>\n",
       "      <td>S Dhawan</td>\n",
       "      <td>TS Mills</td>\n",
       "      <td>0</td>\n",
       "      <td>...</td>\n",
       "      <td>0</td>\n",
       "      <td>0</td>\n",
       "      <td>0</td>\n",
       "      <td>0</td>\n",
       "      <td>0</td>\n",
       "      <td>0</td>\n",
       "      <td>0</td>\n",
       "      <td>NaN</td>\n",
       "      <td>NaN</td>\n",
       "      <td>NaN</td>\n",
       "    </tr>\n",
       "    <tr>\n",
       "      <th>4</th>\n",
       "      <td>1</td>\n",
       "      <td>1</td>\n",
       "      <td>Sunrisers Hyderabad</td>\n",
       "      <td>Royal Challengers Bangalore</td>\n",
       "      <td>1</td>\n",
       "      <td>5</td>\n",
       "      <td>DA Warner</td>\n",
       "      <td>S Dhawan</td>\n",
       "      <td>TS Mills</td>\n",
       "      <td>0</td>\n",
       "      <td>...</td>\n",
       "      <td>0</td>\n",
       "      <td>0</td>\n",
       "      <td>0</td>\n",
       "      <td>0</td>\n",
       "      <td>0</td>\n",
       "      <td>2</td>\n",
       "      <td>2</td>\n",
       "      <td>NaN</td>\n",
       "      <td>NaN</td>\n",
       "      <td>NaN</td>\n",
       "    </tr>\n",
       "  </tbody>\n",
       "</table>\n",
       "<p>5 rows × 21 columns</p>\n",
       "</div>"
      ],
      "text/plain": [
       "   match_id  inning         batting_team                 bowling_team  over  \\\n",
       "0         1       1  Sunrisers Hyderabad  Royal Challengers Bangalore     1   \n",
       "1         1       1  Sunrisers Hyderabad  Royal Challengers Bangalore     1   \n",
       "2         1       1  Sunrisers Hyderabad  Royal Challengers Bangalore     1   \n",
       "3         1       1  Sunrisers Hyderabad  Royal Challengers Bangalore     1   \n",
       "4         1       1  Sunrisers Hyderabad  Royal Challengers Bangalore     1   \n",
       "\n",
       "   ball    batsman non_striker    bowler  is_super_over  ...  bye_runs  \\\n",
       "0     1  DA Warner    S Dhawan  TS Mills              0  ...         0   \n",
       "1     2  DA Warner    S Dhawan  TS Mills              0  ...         0   \n",
       "2     3  DA Warner    S Dhawan  TS Mills              0  ...         0   \n",
       "3     4  DA Warner    S Dhawan  TS Mills              0  ...         0   \n",
       "4     5  DA Warner    S Dhawan  TS Mills              0  ...         0   \n",
       "\n",
       "   legbye_runs  noball_runs  penalty_runs  batsman_runs  extra_runs  \\\n",
       "0            0            0             0             0           0   \n",
       "1            0            0             0             0           0   \n",
       "2            0            0             0             4           0   \n",
       "3            0            0             0             0           0   \n",
       "4            0            0             0             0           2   \n",
       "\n",
       "   total_runs  player_dismissed dismissal_kind fielder  \n",
       "0           0               NaN            NaN     NaN  \n",
       "1           0               NaN            NaN     NaN  \n",
       "2           4               NaN            NaN     NaN  \n",
       "3           0               NaN            NaN     NaN  \n",
       "4           2               NaN            NaN     NaN  \n",
       "\n",
       "[5 rows x 21 columns]"
      ]
     },
     "execution_count": 1,
     "metadata": {},
     "output_type": "execute_result"
    }
   ],
   "source": [
    "import pandas as pd\n",
    "import seaborn as sns\n",
    "import matplotlib.pyplot as plt\n",
    "\n",
    "ipl=pd.read_csv('IPL_Dataset.csv')  \n",
    "\n",
    "# first few rows of the dataset\n",
    "ipl.head()"
   ]
  },
  {
   "cell_type": "markdown",
   "id": "8af432a4",
   "metadata": {},
   "source": [
    "# Summary Statistics"
   ]
  },
  {
   "cell_type": "code",
   "execution_count": 2,
   "id": "13107f8e",
   "metadata": {},
   "outputs": [
    {
     "data": {
      "text/html": [
       "<div>\n",
       "<style scoped>\n",
       "    .dataframe tbody tr th:only-of-type {\n",
       "        vertical-align: middle;\n",
       "    }\n",
       "\n",
       "    .dataframe tbody tr th {\n",
       "        vertical-align: top;\n",
       "    }\n",
       "\n",
       "    .dataframe thead th {\n",
       "        text-align: right;\n",
       "    }\n",
       "</style>\n",
       "<table border=\"1\" class=\"dataframe\">\n",
       "  <thead>\n",
       "    <tr style=\"text-align: right;\">\n",
       "      <th></th>\n",
       "      <th>match_id</th>\n",
       "      <th>inning</th>\n",
       "      <th>over</th>\n",
       "      <th>ball</th>\n",
       "      <th>is_super_over</th>\n",
       "      <th>wide_runs</th>\n",
       "      <th>bye_runs</th>\n",
       "      <th>legbye_runs</th>\n",
       "      <th>noball_runs</th>\n",
       "      <th>penalty_runs</th>\n",
       "      <th>batsman_runs</th>\n",
       "      <th>extra_runs</th>\n",
       "      <th>total_runs</th>\n",
       "    </tr>\n",
       "  </thead>\n",
       "  <tbody>\n",
       "    <tr>\n",
       "      <th>count</th>\n",
       "      <td>150460.000000</td>\n",
       "      <td>150460.000000</td>\n",
       "      <td>150460.000000</td>\n",
       "      <td>150460.000000</td>\n",
       "      <td>150460.000000</td>\n",
       "      <td>150460.000000</td>\n",
       "      <td>150460.000000</td>\n",
       "      <td>150460.000000</td>\n",
       "      <td>150460.000000</td>\n",
       "      <td>150460.000000</td>\n",
       "      <td>150460.000000</td>\n",
       "      <td>150460.000000</td>\n",
       "      <td>150460.000000</td>\n",
       "    </tr>\n",
       "    <tr>\n",
       "      <th>mean</th>\n",
       "      <td>318.281317</td>\n",
       "      <td>1.482188</td>\n",
       "      <td>10.142649</td>\n",
       "      <td>3.616483</td>\n",
       "      <td>0.000538</td>\n",
       "      <td>0.037498</td>\n",
       "      <td>0.004885</td>\n",
       "      <td>0.022232</td>\n",
       "      <td>0.004340</td>\n",
       "      <td>0.000066</td>\n",
       "      <td>1.222445</td>\n",
       "      <td>0.069022</td>\n",
       "      <td>1.291466</td>\n",
       "    </tr>\n",
       "    <tr>\n",
       "      <th>std</th>\n",
       "      <td>182.955531</td>\n",
       "      <td>0.501768</td>\n",
       "      <td>5.674338</td>\n",
       "      <td>1.807698</td>\n",
       "      <td>0.023196</td>\n",
       "      <td>0.257398</td>\n",
       "      <td>0.114234</td>\n",
       "      <td>0.200104</td>\n",
       "      <td>0.072652</td>\n",
       "      <td>0.018229</td>\n",
       "      <td>1.594509</td>\n",
       "      <td>0.349667</td>\n",
       "      <td>1.583240</td>\n",
       "    </tr>\n",
       "    <tr>\n",
       "      <th>min</th>\n",
       "      <td>1.000000</td>\n",
       "      <td>1.000000</td>\n",
       "      <td>1.000000</td>\n",
       "      <td>1.000000</td>\n",
       "      <td>0.000000</td>\n",
       "      <td>0.000000</td>\n",
       "      <td>0.000000</td>\n",
       "      <td>0.000000</td>\n",
       "      <td>0.000000</td>\n",
       "      <td>0.000000</td>\n",
       "      <td>0.000000</td>\n",
       "      <td>0.000000</td>\n",
       "      <td>0.000000</td>\n",
       "    </tr>\n",
       "    <tr>\n",
       "      <th>25%</th>\n",
       "      <td>161.000000</td>\n",
       "      <td>1.000000</td>\n",
       "      <td>5.000000</td>\n",
       "      <td>2.000000</td>\n",
       "      <td>0.000000</td>\n",
       "      <td>0.000000</td>\n",
       "      <td>0.000000</td>\n",
       "      <td>0.000000</td>\n",
       "      <td>0.000000</td>\n",
       "      <td>0.000000</td>\n",
       "      <td>0.000000</td>\n",
       "      <td>0.000000</td>\n",
       "      <td>0.000000</td>\n",
       "    </tr>\n",
       "    <tr>\n",
       "      <th>50%</th>\n",
       "      <td>319.000000</td>\n",
       "      <td>1.000000</td>\n",
       "      <td>10.000000</td>\n",
       "      <td>4.000000</td>\n",
       "      <td>0.000000</td>\n",
       "      <td>0.000000</td>\n",
       "      <td>0.000000</td>\n",
       "      <td>0.000000</td>\n",
       "      <td>0.000000</td>\n",
       "      <td>0.000000</td>\n",
       "      <td>1.000000</td>\n",
       "      <td>0.000000</td>\n",
       "      <td>1.000000</td>\n",
       "    </tr>\n",
       "    <tr>\n",
       "      <th>75%</th>\n",
       "      <td>476.000000</td>\n",
       "      <td>2.000000</td>\n",
       "      <td>15.000000</td>\n",
       "      <td>5.000000</td>\n",
       "      <td>0.000000</td>\n",
       "      <td>0.000000</td>\n",
       "      <td>0.000000</td>\n",
       "      <td>0.000000</td>\n",
       "      <td>0.000000</td>\n",
       "      <td>0.000000</td>\n",
       "      <td>1.000000</td>\n",
       "      <td>0.000000</td>\n",
       "      <td>1.000000</td>\n",
       "    </tr>\n",
       "    <tr>\n",
       "      <th>max</th>\n",
       "      <td>636.000000</td>\n",
       "      <td>4.000000</td>\n",
       "      <td>20.000000</td>\n",
       "      <td>9.000000</td>\n",
       "      <td>1.000000</td>\n",
       "      <td>5.000000</td>\n",
       "      <td>4.000000</td>\n",
       "      <td>5.000000</td>\n",
       "      <td>5.000000</td>\n",
       "      <td>5.000000</td>\n",
       "      <td>6.000000</td>\n",
       "      <td>7.000000</td>\n",
       "      <td>7.000000</td>\n",
       "    </tr>\n",
       "  </tbody>\n",
       "</table>\n",
       "</div>"
      ],
      "text/plain": [
       "            match_id         inning           over           ball  \\\n",
       "count  150460.000000  150460.000000  150460.000000  150460.000000   \n",
       "mean      318.281317       1.482188      10.142649       3.616483   \n",
       "std       182.955531       0.501768       5.674338       1.807698   \n",
       "min         1.000000       1.000000       1.000000       1.000000   \n",
       "25%       161.000000       1.000000       5.000000       2.000000   \n",
       "50%       319.000000       1.000000      10.000000       4.000000   \n",
       "75%       476.000000       2.000000      15.000000       5.000000   \n",
       "max       636.000000       4.000000      20.000000       9.000000   \n",
       "\n",
       "       is_super_over      wide_runs       bye_runs    legbye_runs  \\\n",
       "count  150460.000000  150460.000000  150460.000000  150460.000000   \n",
       "mean        0.000538       0.037498       0.004885       0.022232   \n",
       "std         0.023196       0.257398       0.114234       0.200104   \n",
       "min         0.000000       0.000000       0.000000       0.000000   \n",
       "25%         0.000000       0.000000       0.000000       0.000000   \n",
       "50%         0.000000       0.000000       0.000000       0.000000   \n",
       "75%         0.000000       0.000000       0.000000       0.000000   \n",
       "max         1.000000       5.000000       4.000000       5.000000   \n",
       "\n",
       "         noball_runs   penalty_runs   batsman_runs     extra_runs  \\\n",
       "count  150460.000000  150460.000000  150460.000000  150460.000000   \n",
       "mean        0.004340       0.000066       1.222445       0.069022   \n",
       "std         0.072652       0.018229       1.594509       0.349667   \n",
       "min         0.000000       0.000000       0.000000       0.000000   \n",
       "25%         0.000000       0.000000       0.000000       0.000000   \n",
       "50%         0.000000       0.000000       1.000000       0.000000   \n",
       "75%         0.000000       0.000000       1.000000       0.000000   \n",
       "max         5.000000       5.000000       6.000000       7.000000   \n",
       "\n",
       "          total_runs  \n",
       "count  150460.000000  \n",
       "mean        1.291466  \n",
       "std         1.583240  \n",
       "min         0.000000  \n",
       "25%         0.000000  \n",
       "50%         1.000000  \n",
       "75%         1.000000  \n",
       "max         7.000000  "
      ]
     },
     "execution_count": 2,
     "metadata": {},
     "output_type": "execute_result"
    }
   ],
   "source": [
    "ipl.describe()"
   ]
  },
  {
   "cell_type": "code",
   "execution_count": 3,
   "id": "c69ab9d3",
   "metadata": {},
   "outputs": [
    {
     "name": "stdout",
     "output_type": "stream",
     "text": [
      "<class 'pandas.core.frame.DataFrame'>\n",
      "RangeIndex: 150460 entries, 0 to 150459\n",
      "Data columns (total 21 columns):\n",
      " #   Column            Non-Null Count   Dtype \n",
      "---  ------            --------------   ----- \n",
      " 0   match_id          150460 non-null  int64 \n",
      " 1   inning            150460 non-null  int64 \n",
      " 2   batting_team      150460 non-null  object\n",
      " 3   bowling_team      150460 non-null  object\n",
      " 4   over              150460 non-null  int64 \n",
      " 5   ball              150460 non-null  int64 \n",
      " 6   batsman           150460 non-null  object\n",
      " 7   non_striker       150460 non-null  object\n",
      " 8   bowler            150460 non-null  object\n",
      " 9   is_super_over     150460 non-null  int64 \n",
      " 10  wide_runs         150460 non-null  int64 \n",
      " 11  bye_runs          150460 non-null  int64 \n",
      " 12  legbye_runs       150460 non-null  int64 \n",
      " 13  noball_runs       150460 non-null  int64 \n",
      " 14  penalty_runs      150460 non-null  int64 \n",
      " 15  batsman_runs      150460 non-null  int64 \n",
      " 16  extra_runs        150460 non-null  int64 \n",
      " 17  total_runs        150460 non-null  int64 \n",
      " 18  player_dismissed  7438 non-null    object\n",
      " 19  dismissal_kind    7438 non-null    object\n",
      " 20  fielder           5369 non-null    object\n",
      "dtypes: int64(13), object(8)\n",
      "memory usage: 24.1+ MB\n"
     ]
    }
   ],
   "source": [
    "ipl.info() "
   ]
  },
  {
   "cell_type": "markdown",
   "id": "c0f62efd",
   "metadata": {},
   "source": [
    "# Data Analysis"
   ]
  },
  {
   "cell_type": "markdown",
   "id": "3be0fbb1",
   "metadata": {},
   "source": [
    "### 1. Total number of runs scored by each batting team"
   ]
  },
  {
   "cell_type": "code",
   "execution_count": 4,
   "id": "ea1faf58",
   "metadata": {},
   "outputs": [],
   "source": [
    "ipl['bowling_team'] = ipl['bowling_team'].replace({'Rising Pune Supergiant': 'Rising Pune Supergiants'})\n",
    "ipl['batting_team'] = ipl['batting_team'].replace({'Rising Pune Supergiant': 'Rising Pune Supergiants'})\n"
   ]
  },
  {
   "cell_type": "code",
   "execution_count": 5,
   "id": "fdc1643c",
   "metadata": {},
   "outputs": [
    {
     "data": {
      "text/plain": [
       "Index(['match_id', 'inning', 'batting_team', 'bowling_team', 'over', 'ball',\n",
       "       'batsman', 'non_striker', 'bowler', 'is_super_over', 'wide_runs',\n",
       "       'bye_runs', 'legbye_runs', 'noball_runs', 'penalty_runs',\n",
       "       'batsman_runs', 'extra_runs', 'total_runs', 'player_dismissed',\n",
       "       'dismissal_kind', 'fielder'],\n",
       "      dtype='object')"
      ]
     },
     "execution_count": 5,
     "metadata": {},
     "output_type": "execute_result"
    }
   ],
   "source": [
    "ipl.columns"
   ]
  },
  {
   "cell_type": "code",
   "execution_count": 6,
   "id": "a00f2d96",
   "metadata": {},
   "outputs": [
    {
     "name": "stdout",
     "output_type": "stream",
     "text": [
      "Total runs scored by each batting team:\n",
      " batting_team\n",
      "Chennai Super Kings            20899\n",
      "Deccan Chargers                11463\n",
      "Delhi Daredevils               21953\n",
      "Gujarat Lions                   4862\n",
      "Kings XI Punjab                23068\n",
      "Kochi Tuskers Kerala            1901\n",
      "Kolkata Knight Riders          21965\n",
      "Mumbai Indians                 24521\n",
      "Pune Warriors                   6358\n",
      "Rajasthan Royals               17703\n",
      "Rising Pune Supergiants         4533\n",
      "Royal Challengers Bangalore    23436\n",
      "Sunrisers Hyderabad            11652\n",
      "Name: total_runs, dtype: int64\n"
     ]
    }
   ],
   "source": [
    "total_runs_by_team=ipl.groupby('batting_team')['total_runs'].sum()\n",
    "print(\"Total runs scored by each batting team:\\n\", total_runs_by_team)"
   ]
  },
  {
   "cell_type": "markdown",
   "id": "bb630715",
   "metadata": {},
   "source": [
    "### 2. Number of wides bowled by each bowling team"
   ]
  },
  {
   "cell_type": "code",
   "execution_count": 7,
   "id": "6e110ecf",
   "metadata": {},
   "outputs": [
    {
     "name": "stdout",
     "output_type": "stream",
     "text": [
      "Number of wides bowled by each bowling team:\n",
      " bowling_team\n",
      "Chennai Super Kings            526\n",
      "Deccan Chargers                328\n",
      "Delhi Daredevils               614\n",
      "Gujarat Lions                  107\n",
      "Kings XI Punjab                668\n",
      "Kochi Tuskers Kerala            56\n",
      "Kolkata Knight Riders          658\n",
      "Mumbai Indians                 786\n",
      "Pune Warriors                  174\n",
      "Rajasthan Royals               586\n",
      "Rising Pune Supergiants        146\n",
      "Royal Challengers Bangalore    725\n",
      "Sunrisers Hyderabad            268\n",
      "Name: wide_runs, dtype: int64\n"
     ]
    }
   ],
   "source": [
    "total_wides_by_team=ipl.groupby('bowling_team')['wide_runs'].sum()\n",
    "print(\"Number of wides bowled by each bowling team:\\n\", total_wides_by_team)"
   ]
  },
  {
   "cell_type": "markdown",
   "id": "d1ef15fb",
   "metadata": {},
   "source": [
    "### 3. Average Runs per Inning by Each Team"
   ]
  },
  {
   "cell_type": "code",
   "execution_count": 8,
   "id": "13613a23",
   "metadata": {},
   "outputs": [
    {
     "name": "stdout",
     "output_type": "stream",
     "text": [
      "Average number of runs scored per inning by each team:\n",
      " batting_team\n",
      "Chennai Super Kings            158.325758\n",
      "Deccan Chargers                152.840000\n",
      "Delhi Daredevils               148.331081\n",
      "Gujarat Lions                  156.838710\n",
      "Kings XI Punjab                153.786667\n",
      "Kochi Tuskers Kerala           135.785714\n",
      "Kolkata Knight Riders          146.433333\n",
      "Mumbai Indians                 155.196203\n",
      "Pune Warriors                  141.288889\n",
      "Rajasthan Royals               147.525000\n",
      "Rising Pune Supergiants        151.100000\n",
      "Royal Challengers Bangalore    152.181818\n",
      "Sunrisers Hyderabad            151.324675\n",
      "Name: total_runs, dtype: float64\n"
     ]
    }
   ],
   "source": [
    "average_runs_per_inning = ipl.groupby(['batting_team','inning','match_id'])['total_runs'].sum().groupby('batting_team').mean()\n",
    "print(\"Average number of runs scored per inning by each team:\\n\", average_runs_per_inning)"
   ]
  },
  {
   "cell_type": "markdown",
   "id": "98ab9495",
   "metadata": {},
   "source": [
    "### 4. Highest Run-Scoring Batsman"
   ]
  },
  {
   "cell_type": "code",
   "execution_count": 9,
   "id": "221cbe4b",
   "metadata": {},
   "outputs": [
    {
     "name": "stdout",
     "output_type": "stream",
     "text": [
      "Batsman with the highest number of runs : SK Raina\n"
     ]
    }
   ],
   "source": [
    "bats_man=ipl.groupby('batsman')['batsman_runs'].sum().sort_values(ascending=False).head(1).index[0]\n",
    "print('Batsman with the highest number of runs :',bats_man)"
   ]
  },
  {
   "cell_type": "markdown",
   "id": "239ee38e",
   "metadata": {},
   "source": [
    "### 5. Dismissals by Kind"
   ]
  },
  {
   "cell_type": "code",
   "execution_count": 10,
   "id": "ca0db4b6",
   "metadata": {},
   "outputs": [
    {
     "name": "stdout",
     "output_type": "stream",
     "text": [
      "Number of dismissals of each dismissal kind:\n",
      " dismissal_kind\n",
      "caught                   4373\n",
      "bowled                   1382\n",
      "run out                   755\n",
      "lbw                       455\n",
      "stumped                   243\n",
      "caught and bowled         211\n",
      "retired hurt                9\n",
      "hit wicket                  9\n",
      "obstructing the field       1\n",
      "Name: count, dtype: int64\n"
     ]
    }
   ],
   "source": [
    "dismissal_counts = ipl['dismissal_kind'].value_counts()\n",
    "print(\"Number of dismissals of each dismissal kind:\\n\", dismissal_counts)"
   ]
  },
  {
   "cell_type": "markdown",
   "id": "d4983529",
   "metadata": {},
   "source": [
    "### 6. Total Runs per Over"
   ]
  },
  {
   "cell_type": "code",
   "execution_count": 11,
   "id": "99a2e518",
   "metadata": {},
   "outputs": [
    {
     "name": "stdout",
     "output_type": "stream",
     "text": [
      "Total runs scored by each over:\n",
      " match_id  over\n",
      "1         1       18\n",
      "          2       17\n",
      "          3       22\n",
      "          4       19\n",
      "          5       14\n",
      "                  ..\n",
      "636       16      11\n",
      "          17      19\n",
      "          18      19\n",
      "          19      28\n",
      "          20      33\n",
      "Name: total_runs, Length: 12582, dtype: int64\n"
     ]
    }
   ],
   "source": [
    "total_runs_by_over = ipl.groupby(['match_id','over'])['total_runs'].sum()\n",
    "print(\"Total runs scored by each over:\\n\", total_runs_by_over)"
   ]
  },
  {
   "cell_type": "markdown",
   "id": "5bcf9355",
   "metadata": {},
   "source": [
    "### 7. Top Wicket-Taking Bowler"
   ]
  },
  {
   "cell_type": "code",
   "execution_count": 12,
   "id": "ac91fae4",
   "metadata": {},
   "outputs": [
    {
     "name": "stdout",
     "output_type": "stream",
     "text": [
      "highest wicket-taker : SL Malinga\n"
     ]
    }
   ],
   "source": [
    "bowler=ipl.groupby('bowler')['player_dismissed'].count().sort_values(ascending=False).head(1).index[0]\n",
    "print('highest wicket-taker :', bowler)"
   ]
  },
  {
   "cell_type": "markdown",
   "id": "63cb8739",
   "metadata": {},
   "source": [
    "### 8. Total Super Overs Played"
   ]
  },
  {
   "cell_type": "code",
   "execution_count": 13,
   "id": "69ad50bf",
   "metadata": {},
   "outputs": [
    {
     "name": "stdout",
     "output_type": "stream",
     "text": [
      "Total super over : 81\n"
     ]
    }
   ],
   "source": [
    "super_over=ipl['is_super_over'].sum()\n",
    "print('Total super over :',super_over)"
   ]
  },
  {
   "cell_type": "markdown",
   "id": "24f53766",
   "metadata": {},
   "source": [
    "### 9. Average Extras Conceded per Inning by Each Bowling Team"
   ]
  },
  {
   "cell_type": "code",
   "execution_count": 14,
   "id": "f7e3c24f",
   "metadata": {},
   "outputs": [
    {
     "name": "stdout",
     "output_type": "stream",
     "text": [
      "Average number of extras conceded per inning by each bowling team:\n",
      "                    bowling_team  extra_runs\n",
      "0           Chennai Super Kings    7.590909\n",
      "1               Deccan Chargers    8.786667\n",
      "2              Delhi Daredevils    8.074830\n",
      "3                 Gujarat Lions    6.064516\n",
      "4               Kings XI Punjab    8.200000\n",
      "5          Kochi Tuskers Kerala    7.857143\n",
      "6         Kolkata Knight Riders    8.026667\n",
      "7                Mumbai Indians    8.841772\n",
      "8                 Pune Warriors    7.282609\n",
      "9              Rajasthan Royals    8.743802\n",
      "10      Rising Pune Supergiants    7.300000\n",
      "11  Royal Challengers Bangalore    8.555556\n",
      "12          Sunrisers Hyderabad    6.324675\n"
     ]
    }
   ],
   "source": [
    "average_extras_per_inning = ipl.groupby(['bowling_team','inning','match_id'])['extra_runs'].sum().groupby('bowling_team').mean().reset_index()\n",
    "print(\"Average number of extras conceded per inning by each bowling team:\\n\", average_extras_per_inning)"
   ]
  },
  {
   "cell_type": "markdown",
   "id": "a310c9e6",
   "metadata": {},
   "source": [
    "### 10. Runs by Batsman-Bowler Pair"
   ]
  },
  {
   "cell_type": "code",
   "execution_count": 15,
   "id": "6d262564",
   "metadata": {},
   "outputs": [
    {
     "name": "stdout",
     "output_type": "stream",
     "text": [
      "Runs scored by each batsman-bowler pair:\n",
      " batsman         bowler         \n",
      "A Ashish Reddy  A Nehra             7\n",
      "                AB Dinda            9\n",
      "                AD Mathews         25\n",
      "                AD Russell          4\n",
      "                Anureet Singh       2\n",
      "                                   ..\n",
      "Z Khan          SR Watson           3\n",
      "                Shakib Al Hasan     3\n",
      "                Sohail Tanvir       3\n",
      "                VRV Singh           0\n",
      "                YK Pathan           1\n",
      "Name: batsman_runs, Length: 17151, dtype: int64\n"
     ]
    }
   ],
   "source": [
    "runs_by_batsman_bowler_pair = ipl.groupby(['batsman','bowler'])['batsman_runs'].sum()\n",
    "print(\"Runs scored by each batsman-bowler pair:\\n\", runs_by_batsman_bowler_pair)"
   ]
  },
  {
   "cell_type": "markdown",
   "id": "7035d01e",
   "metadata": {},
   "source": [
    "### 11. Most Common Dismissal Kind"
   ]
  },
  {
   "cell_type": "code",
   "execution_count": 16,
   "id": "7f22087f",
   "metadata": {},
   "outputs": [
    {
     "name": "stdout",
     "output_type": "stream",
     "text": [
      "Most common dismissal : caught\n"
     ]
    }
   ],
   "source": [
    "dismissal=ipl['dismissal_kind'].mode()[0]\n",
    "print('Most common dismissal :',dismissal)"
   ]
  },
  {
   "cell_type": "markdown",
   "id": "98ef3c63",
   "metadata": {},
   "source": [
    "### 12. Matches Played by Each Batting Team"
   ]
  },
  {
   "cell_type": "code",
   "execution_count": 17,
   "id": "33dd840c",
   "metadata": {},
   "outputs": [
    {
     "name": "stdout",
     "output_type": "stream",
     "text": [
      "Number of matches played by each batting team:\n",
      " batting_team\n",
      "Chennai Super Kings            131\n",
      "Deccan Chargers                 75\n",
      "Delhi Daredevils               147\n",
      "Gujarat Lions                   30\n",
      "Kings XI Punjab                148\n",
      "Kochi Tuskers Kerala            14\n",
      "Kolkata Knight Riders          148\n",
      "Mumbai Indians                 157\n",
      "Pune Warriors                   45\n",
      "Rajasthan Royals               117\n",
      "Rising Pune Supergiants         30\n",
      "Royal Challengers Bangalore    152\n",
      "Sunrisers Hyderabad             76\n",
      "Name: match_id, dtype: int64\n"
     ]
    }
   ],
   "source": [
    "matches_by_team = ipl.groupby('batting_team')['match_id'].nunique()\n",
    "print(\"Number of matches played by each batting team:\\n\", matches_by_team)"
   ]
  },
  {
   "cell_type": "markdown",
   "id": "4caf086c",
   "metadata": {},
   "source": [
    "### 13. Average Runs per Over"
   ]
  },
  {
   "cell_type": "code",
   "execution_count": 18,
   "id": "05722f66",
   "metadata": {},
   "outputs": [
    {
     "name": "stdout",
     "output_type": "stream",
     "text": [
      "average number of runs scored in each over :\n",
      " over\n",
      "1     0.955635\n",
      "2     1.121601\n",
      "3     1.242057\n",
      "4     1.291698\n",
      "5     1.298832\n",
      "6     1.321933\n",
      "7     1.074869\n",
      "8     1.149635\n",
      "9     1.189325\n",
      "10    1.170981\n",
      "11    1.233177\n",
      "12    1.269347\n",
      "13    1.275509\n",
      "14    1.313694\n",
      "15    1.373206\n",
      "16    1.418031\n",
      "17    1.495300\n",
      "18    1.561685\n",
      "19    1.600031\n",
      "20    1.707736\n",
      "Name: total_runs, dtype: float64\n"
     ]
    }
   ],
   "source": [
    "average_runs_per_over=ipl.groupby('over')['total_runs'].mean()\n",
    "print('average number of runs scored in each over :\\n',average_runs_per_over)"
   ]
  },
  {
   "cell_type": "markdown",
   "id": "21c107fe",
   "metadata": {},
   "source": [
    "### 14. Top Fielder Involved in Dismissals"
   ]
  },
  {
   "cell_type": "code",
   "execution_count": 19,
   "id": "96d41caa",
   "metadata": {},
   "outputs": [
    {
     "name": "stdout",
     "output_type": "stream",
     "text": [
      "Top Fielder Involved in Dismissals : KD Karthik\n"
     ]
    }
   ],
   "source": [
    "dismissal=ipl['fielder'].value_counts().idxmax()\n",
    "print('Top Fielder Involved in Dismissals :',dismissal)"
   ]
  },
  {
   "cell_type": "markdown",
   "id": "59c0606d",
   "metadata": {},
   "source": [
    "### 15. Runs Variation with Over Number"
   ]
  },
  {
   "cell_type": "code",
   "execution_count": 20,
   "id": "cfe4fb7f",
   "metadata": {},
   "outputs": [
    {
     "data": {
      "image/png": "[encoded data removed]",
      "text/plain": [
       "<Figure size 640x480 with 1 Axes>"
      ]
     },
     "metadata": {},
     "output_type": "display_data"
    }
   ],
   "source": [
    "runs_by_over = ipl.groupby('over')['total_runs'].sum()\n",
    "sns.lineplot(runs_by_over)\n",
    "plt.title(\"Number of runs scored with the over number\")\n",
    "plt.show()"
   ]
  },
  {
   "cell_type": "markdown",
   "id": "137d214e",
   "metadata": {},
   "source": [
    "### 16. Relationship Between Runs and Extras Conceded"
   ]
  },
  {
   "cell_type": "code",
   "execution_count": 21,
   "id": "7d2707ec",
   "metadata": {},
   "outputs": [
    {
     "name": "stdout",
     "output_type": "stream",
     "text": [
      "Correlation between runs scored and extras conceded: 0.08\n"
     ]
    },
    {
     "data": {
      "image/png": "[encoded data removed]",
      "text/plain": [
       "<Figure size 640x480 with 1 Axes>"
      ]
     },
     "metadata": {},
     "output_type": "display_data"
    }
   ],
   "source": [
    "correlation_runs_extras = ipl[['total_runs','extra_runs']].corr().iloc[0,1]\n",
    "print(\"Correlation between runs scored and extras conceded:\", correlation_runs_extras.round(2))\n",
    "\n",
    "sns.scatterplot(x='total_runs', y='extra_runs', data=ipl)\n",
    "plt.xlabel('total_runs')\n",
    "plt.ylabel('extra_runs')\n",
    "plt.title('Relationship Between Runs and Extras Conceded')\n",
    "plt.show()"
   ]
  },
  {
   "cell_type": "markdown",
   "id": "e729450a",
   "metadata": {},
   "source": [
    "### 17. Trends in Runs Scored by Batting Teams Across Innings"
   ]
  },
  {
   "cell_type": "code",
   "execution_count": 22,
   "id": "e22b8f9b",
   "metadata": {},
   "outputs": [
    {
     "data": {
      "image/png": "[encoded data removed]",
      "text/plain": [
       "<Figure size 640x480 with 1 Axes>"
      ]
     },
     "metadata": {},
     "output_type": "display_data"
    }
   ],
   "source": [
    "runs_distribution_by_inning =ipl.groupby(['batting_team', 'inning'])['total_runs'].sum().unstack()\n",
    "runs_distribution_by_inning.plot(kind='bar',stacked=True,title='Runs Distribution by Batting Teams Across Innings')\n",
    "plt.show()"
   ]
  },
  {
   "cell_type": "markdown",
   "id": "3b38f4a5",
   "metadata": {},
   "source": [
    "### 18. Highest Average Runs per Match by Batting Team"
   ]
  },
  {
   "cell_type": "code",
   "execution_count": 23,
   "id": "05cea1b8",
   "metadata": {},
   "outputs": [
    {
     "name": "stdout",
     "output_type": "stream",
     "text": [
      "Highest Average Runs per Match by Batting Team : batting_team\n",
      "Gujarat Lions    162.066667\n",
      "dtype: float64\n"
     ]
    }
   ],
   "source": [
    "average_runs_per_match = ipl.groupby('batting_team')['total_runs'].sum() / ipl.groupby('batting_team')['match_id'].nunique()\n",
    "team_highest_avg_runs = average_runs_per_match.sort_values(ascending=False).head(1)\n",
    "print(\"Highest Average Runs per Match by Batting Team :\", team_highest_avg_runs)\n"
   ]
  },
  {
   "cell_type": "code",
   "execution_count": 24,
   "id": "783b8cc3",
   "metadata": {},
   "outputs": [
    {
     "name": "stdout",
     "output_type": "stream",
     "text": [
      "Highest Average Runs per Match by Batting Team : Gujarat Lions\n"
     ]
    }
   ],
   "source": [
    "runs_per_match = ipl.groupby(['match_id','batting_team'])['total_runs'].sum().reset_index()\n",
    "avg_runs_per_match = runs_per_match.groupby('batting_team')['total_runs'].mean().reset_index(name='avg_runs').sort_values(by='avg_runs',ascending=False).values[0,0]\n",
    "print(\"Highest Average Runs per Match by Batting Team :\",avg_runs_per_match)"
   ]
  },
  {
   "cell_type": "markdown",
   "id": "840c49ca",
   "metadata": {},
   "source": [
    "### 19.Total Runs by Each Batsman"
   ]
  },
  {
   "cell_type": "code",
   "execution_count": 25,
   "id": "e39ce9a9",
   "metadata": {},
   "outputs": [
    {
     "name": "stdout",
     "output_type": "stream",
     "text": [
      "total runs scored by each batsman :\n",
      "batsman\n",
      "A Ashish Reddy     280\n",
      "A Chandila           4\n",
      "A Chopra            53\n",
      "A Choudhary         25\n",
      "A Flintoff          62\n",
      "                  ... \n",
      "YV Takawale        192\n",
      "Yashpal Singh       47\n",
      "Younis Khan          3\n",
      "Yuvraj Singh      2591\n",
      "Z Khan             117\n",
      "Name: batsman_runs, Length: 461, dtype: int64\n"
     ]
    }
   ],
   "source": [
    "batsman=ipl.groupby('batsman')['batsman_runs'].sum()\n",
    "print('total runs scored by each batsman :')\n",
    "print(batsman)"
   ]
  },
  {
   "cell_type": "markdown",
   "id": "55a4375b",
   "metadata": {},
   "source": [
    "### 20. Average Runs per Inning by Bowling Teams"
   ]
  },
  {
   "cell_type": "code",
   "execution_count": 26,
   "id": "f8a13c77",
   "metadata": {},
   "outputs": [
    {
     "name": "stdout",
     "output_type": "stream",
     "text": [
      "Average number of runs scored per inning across different bowling teams:\n",
      " bowling_team\n",
      "Chennai Super Kings            149.924242\n",
      "Deccan Chargers                154.906667\n",
      "Delhi Daredevils               151.993197\n",
      "Gujarat Lions                  164.193548\n",
      "Kings XI Punjab                155.133333\n",
      "Kochi Tuskers Kerala           141.857143\n",
      "Kolkata Knight Riders          146.900000\n",
      "Mumbai Indians                 150.854430\n",
      "Pune Warriors                  149.065217\n",
      "Rajasthan Royals               147.553719\n",
      "Rising Pune Supergiants        151.633333\n",
      "Royal Challengers Bangalore    154.392157\n",
      "Sunrisers Hyderabad            148.896104\n",
      "Name: total_runs, dtype: float64\n"
     ]
    }
   ],
   "source": [
    "average_runs_against_team = ipl.groupby(['inning','bowling_team','match_id'])['total_runs'].sum().groupby('bowling_team').mean()\n",
    "print(\"Average number of runs scored per inning across different bowling teams:\\n\", average_runs_against_team)"
   ]
  },
  {
   "cell_type": "markdown",
   "id": "04ee1f9a",
   "metadata": {},
   "source": [
    "### 21. Relationship Between Wides and No Balls Bowled"
   ]
  },
  {
   "cell_type": "code",
   "execution_count": 27,
   "id": "4aa70bda",
   "metadata": {},
   "outputs": [
    {
     "name": "stdout",
     "output_type": "stream",
     "text": [
      "Correlation between wides and no balls bowled: -0.009\n"
     ]
    },
    {
     "data": {
      "image/png": "[encoded data removed]",
      "text/plain": [
       "<Figure size 640x480 with 1 Axes>"
      ]
     },
     "metadata": {},
     "output_type": "display_data"
    }
   ],
   "source": [
    "correlation_wides_noballs = ipl[['wide_runs','noball_runs']].corr().iloc[0,1]\n",
    "print(\"Correlation between wides and no balls bowled:\", correlation_wides_noballs.round(3))\n",
    "\n",
    "sns.scatterplot(x='wide_runs', y='noball_runs', data=ipl)\n",
    "plt.xlabel('wide_runs')\n",
    "plt.ylabel('noball_runs')\n",
    "plt.title('Relationship Between Wides and No Balls Bowled')\n",
    "plt.show()"
   ]
  },
  {
   "cell_type": "markdown",
   "id": "72b1ee6f",
   "metadata": {},
   "source": [
    "### 22. Highest Number of Centuries by Batting Team"
   ]
  },
  {
   "cell_type": "code",
   "execution_count": 28,
   "id": "3a3b65ee",
   "metadata": {},
   "outputs": [
    {
     "name": "stdout",
     "output_type": "stream",
     "text": [
      "Highest Number of Centuries by Batting Team : Royal Challengers Bangalore\n"
     ]
    }
   ],
   "source": [
    "batsman_runs = ipl.groupby(['batting_team','batsman','match_id'])['batsman_runs'].sum()\n",
    "team_highest_centuries = (batsman_runs[batsman_runs>=100]).groupby('batting_team').count().sort_values(ascending=False).head(1).index[0]\n",
    "print(\"Highest Number of Centuries by Batting Team :\", team_highest_centuries)"
   ]
  },
  {
   "cell_type": "markdown",
   "id": "d551555b",
   "metadata": {},
   "source": [
    "### 23. Number of Wides with Over Number"
   ]
  },
  {
   "cell_type": "code",
   "execution_count": 29,
   "id": "831f0c80",
   "metadata": {},
   "outputs": [
    {
     "data": {
      "image/png": "[encoded data removed]",
      "text/plain": [
       "<Figure size 640x480 with 1 Axes>"
      ]
     },
     "metadata": {},
     "output_type": "display_data"
    }
   ],
   "source": [
    "wides=ipl.groupby('over')['wide_runs'].sum()\n",
    "sns.lineplot(wides)\n",
    "plt.title('number of wides vary with the over number ')\n",
    "plt.show()"
   ]
  },
  {
   "cell_type": "markdown",
   "id": "09a9322d",
   "metadata": {},
   "source": [
    "### 24. Average Runs per Inning in Matches with Super Overs"
   ]
  },
  {
   "cell_type": "code",
   "execution_count": 30,
   "id": "27519727",
   "metadata": {},
   "outputs": [
    {
     "name": "stdout",
     "output_type": "stream",
     "text": [
      "average number of runs scored per inning in matches with a super over : 12.357142857142858\n"
     ]
    }
   ],
   "source": [
    "avg_runs=ipl[ipl['is_super_over']==1].groupby(['match_id','inning'])['total_runs'].sum().mean()\n",
    "print('average number of runs scored per inning in matches with a super over :',avg_runs)"
   ]
  },
  {
   "cell_type": "markdown",
   "id": "213b9df0",
   "metadata": {},
   "source": [
    "### 25. Number of Extra Runs with Over Number"
   ]
  },
  {
   "cell_type": "code",
   "execution_count": 31,
   "id": "66319230",
   "metadata": {},
   "outputs": [
    {
     "data": {
      "image/png": "[encoded data removed]",
      "text/plain": [
       "<Figure size 640x480 with 1 Axes>"
      ]
     },
     "metadata": {},
     "output_type": "display_data"
    }
   ],
   "source": [
    "Total_extra_runs = ipl.groupby('over')['extra_runs'].sum()\n",
    "sns.lineplot(Total_extra_runs)\n",
    "plt.title('Number of Extra Runs with Over Number')\n",
    "plt.show()"
   ]
  },
  {
   "cell_type": "markdown",
   "id": "a9c68563",
   "metadata": {},
   "source": [
    "### 26. Bowler with Highest Economy Rate"
   ]
  },
  {
   "cell_type": "code",
   "execution_count": 32,
   "id": "db28edf3",
   "metadata": {},
   "outputs": [
    {
     "name": "stdout",
     "output_type": "stream",
     "text": [
      "Bowler with the highest economy rate : bowler\n",
      "PP Chawla    174.473684\n",
      "dtype: float64\n"
     ]
    }
   ],
   "source": [
    "bowler_runs = ipl.groupby('bowler')['total_runs'].sum()\n",
    "bowler_overs = ipl.groupby('bowler')['over'].nunique()\n",
    "economy_rate = bowler_runs / bowler_overs\n",
    "print(\"Bowler with the highest economy rate :\",economy_rate.sort_values(ascending=False).head(1))"
   ]
  },
  {
   "cell_type": "markdown",
   "id": "872112f5",
   "metadata": {},
   "source": [
    "### 27. Variation of Dismissals by Kind"
   ]
  },
  {
   "cell_type": "code",
   "execution_count": 33,
   "id": "ee27d899",
   "metadata": {},
   "outputs": [
    {
     "name": "stdout",
     "output_type": "stream",
     "text": [
      "number of dismissals vary across different dismissal kinds :\n",
      "dismissal_kind\n",
      "caught                   4373\n",
      "bowled                   1382\n",
      "run out                   755\n",
      "lbw                       455\n",
      "stumped                   243\n",
      "caught and bowled         211\n",
      "retired hurt                9\n",
      "hit wicket                  9\n",
      "obstructing the field       1\n",
      "Name: count, dtype: int64\n"
     ]
    }
   ],
   "source": [
    "dissmisal_kind=ipl['dismissal_kind'].value_counts()\n",
    "print('number of dismissals vary across different dismissal kinds :')\n",
    "print(dissmisal_kind)"
   ]
  },
  {
   "cell_type": "markdown",
   "id": "1d252a6e",
   "metadata": {},
   "source": [
    "### 28. Runs Distribution by Batting Team in Super Overs"
   ]
  },
  {
   "cell_type": "code",
   "execution_count": 34,
   "id": "28d629e6",
   "metadata": {},
   "outputs": [
    {
     "name": "stdout",
     "output_type": "stream",
     "text": [
      "Distribution of runs scored by each batting team in super overs:\n",
      " batting_team\n",
      "Chennai Super Kings             9\n",
      "Delhi Daredevils               11\n",
      "Gujarat Lions                   6\n",
      "Kings XI Punjab                25\n",
      "Kolkata Knight Riders          26\n",
      "Mumbai Indians                 11\n",
      "Rajasthan Royals               35\n",
      "Royal Challengers Bangalore    30\n",
      "Sunrisers Hyderabad            20\n",
      "Name: total_runs, dtype: int64\n"
     ]
    }
   ],
   "source": [
    "runs_super_over_by_team = (ipl[ipl['is_super_over']==1]).groupby('batting_team')['total_runs'].sum()\n",
    "print(\"Distribution of runs scored by each batting team in super overs:\\n\", runs_super_over_by_team)"
   ]
  }
 ],
 "metadata": {
  "kernelspec": {
   "display_name": "Python 3 (ipykernel)",
   "language": "python",
   "name": "python3"
  },
  "language_info": {
   "codemirror_mode": {
    "name": "ipython",
    "version": 3
   },
   "file_extension": ".py",
   "mimetype": "text/x-python",
   "name": "python",
   "nbconvert_exporter": "python",
   "pygments_lexer": "ipython3",
   "version": "3.11.5"
  }
 },
 "nbformat": 4,
 "nbformat_minor": 5
}
